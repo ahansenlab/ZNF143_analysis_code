{
 "cells": [
  {
   "cell_type": "code",
   "execution_count": null,
   "id": "0d34a5ce-f3c9-4300-892d-862006424027",
   "metadata": {},
   "outputs": [],
   "source": [
    "%load frap_analysis.py"
   ]
  },
  {
   "cell_type": "markdown",
   "id": "df21dc25-7ed0-4a6b-9883-864f45abd21a",
   "metadata": {},
   "source": [
    "# Example FRAP analysis\n",
    "\n",
    "### Read FRAP data"
   ]
  },
  {
   "cell_type": "code",
   "execution_count": null,
   "id": "ed7343ea-3c85-468b-878a-7ea471b83a3d",
   "metadata": {},
   "outputs": [],
   "source": [
    "# get all data\n",
    "path = \"example_frap_output.csv\" # path to output from FRAP ROI correction\n",
    "all_datasets = []\n",
    "all_names = []\n",
    "condition_names = []\n",
    "for condition in listdir_nohidden(path):\n",
    "    if condition != \"excluded\":\n",
    "        print(condition)\n",
    "        dataset, names = read_all_movies(os.path.join(path, condition))\n",
    "        all_datasets.append(dataset)\n",
    "        all_names.append(names)\n",
    "        condition_names.append(condition)\n",
    "all_datasets_no_exclusion = [dataset for dataset, name in zip(all_datasets, condition_names) if name != \"exclusion\"]\n",
    "condition_names_no_exclusion = [name for name in condition_names if name != \"exclusion\"]\n",
    "\n",
    "# reorder based on final values\n",
    "mean_final_values = []\n",
    "for datasets in all_datasets:\n",
    "    combined_data = pd.concat(datasets)\n",
    "    combined_data = combined_data[[\"time\", \"intensity\", \"label\"]].reset_index()\n",
    "    combined_final_values = combined_data[combined_data[\"time\"] > 500]\n",
    "    mean_final_values.append(np.mean(combined_data[\"intensity\"].to_numpy()))\n",
    "    \n",
    "zipped = zip(mean_final_values, all_datasets, all_names, condition_names)\n",
    "mean_final_values_ordered, all_datasets_ordered, all_names_ordered, condition_names_ordered = zip(*sorted(zipped))"
   ]
  },
  {
   "cell_type": "markdown",
   "id": "ea8e32a5-de29-4074-97ed-e4b40c5658d6",
   "metadata": {},
   "source": [
    "### Examine all of the tracks"
   ]
  },
  {
   "cell_type": "code",
   "execution_count": null,
   "id": "b4ae6514-d1f3-466b-b6c7-e3d7f7e6a209",
   "metadata": {},
   "outputs": [],
   "source": [
    "i = 1 # provide index for desired condition\n",
    "print(condition_names_ordered[i])\n",
    "plot_all_plots_square(all_datasets_ordered[i], all_names_ordered[i])"
   ]
  },
  {
   "cell_type": "markdown",
   "id": "9b6b8966-4fd4-4ae2-b34d-308898686225",
   "metadata": {},
   "source": [
    "### Examine average fit for one condition"
   ]
  },
  {
   "cell_type": "code",
   "execution_count": null,
   "id": "1919c765-40cb-4281-9aef-fb9038caea82",
   "metadata": {},
   "outputs": [],
   "source": [
    "plot_data_model(all_datasets_ordered[i], weight_fit=False, enforce_bleach_frame=True, bleach_idx=10)"
   ]
  },
  {
   "cell_type": "markdown",
   "id": "a3070a67-54cd-4828-a0c5-86a50bd12ea6",
   "metadata": {},
   "source": [
    "### Plot multiple model fits"
   ]
  },
  {
   "cell_type": "code",
   "execution_count": null,
   "id": "681cbf81-f4d9-4d60-bc28-36adee875f24",
   "metadata": {},
   "outputs": [],
   "source": [
    "# make plots\n",
    "print(condition_names_ordered)\n",
    "condition_names_no_dep = tuple([condition_names_ordered[0]]) + condition_names_ordered[2:4] + \\\n",
    "                        tuple([condition_names_ordered[5]])\n",
    "print(condition_names_no_dep)\n",
    "all_datasets_no_dep = tuple([all_datasets_ordered[0]]) + all_datasets_ordered[2:4] + \\\n",
    "                        tuple([all_datasets_ordered[5]])\n",
    "summary_data, _ = plot_multiple_datasets(all_datasets_no_dep, condition_names_no_dep, \n",
    "                                         plot_model=True, weight_fit=True, \n",
    "                                         enforce_bleach_frame=True, bleach_idx=10)\n",
    "sns.despine()\n",
    "plt.savefig(\"frap_output.svg\", format=\"svg\")"
   ]
  }
 ],
 "metadata": {
  "kernelspec": {
   "display_name": "notebook_1",
   "language": "python",
   "name": "notebook_1"
  },
  "language_info": {
   "codemirror_mode": {
    "name": "ipython",
    "version": 3
   },
   "file_extension": ".py",
   "mimetype": "text/x-python",
   "name": "python",
   "nbconvert_exporter": "python",
   "pygments_lexer": "ipython3",
   "version": "3.11.4"
  }
 },
 "nbformat": 4,
 "nbformat_minor": 5
}
