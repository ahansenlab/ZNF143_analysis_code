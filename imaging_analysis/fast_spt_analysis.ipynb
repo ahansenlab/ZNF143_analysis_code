{
 "cells": [
  {
   "cell_type": "code",
   "execution_count": null,
   "id": "15da52cc-2048-42c1-95bc-17464f005ec6",
   "metadata": {},
   "outputs": [],
   "source": [
    "%load fast_spt_analysis.py"
   ]
  },
  {
   "cell_type": "markdown",
   "id": "02ee8f0f-b152-453f-848d-501a5fab7b18",
   "metadata": {},
   "source": [
    "### Test masking parameters for SPT trajectories"
   ]
  },
  {
   "cell_type": "code",
   "execution_count": null,
   "id": "d39f58c8-6904-448e-b537-a16895211dac",
   "metadata": {},
   "outputs": [],
   "source": [
    "tracks_path = \"\" # provide path to tracks\n",
    "bulk_test_masking_params(tracks_path)"
   ]
  },
  {
   "cell_type": "markdown",
   "id": "566dce53-70f3-4a93-b783-d32cd7cf0937",
   "metadata": {},
   "source": [
    "### Batch apply masking parameters to trajectories"
   ]
  },
  {
   "cell_type": "code",
   "execution_count": null,
   "id": "d419862b-be25-4e38-81d6-94c7f3c57075",
   "metadata": {},
   "outputs": [],
   "source": [
    "masking_file = \"example.csv\" # csv file indicating how to perform masking for trajectories\n",
    "batch_apply_mask(masking_file)"
   ]
  },
  {
   "cell_type": "markdown",
   "id": "e8dd8a57-29e5-474b-a99c-2bcae87d1b60",
   "metadata": {},
   "source": [
    "# fastSPT analysis using Spot-On"
   ]
  },
  {
   "cell_type": "code",
   "execution_count": 1,
   "id": "2ba3a7bb-f8de-47ef-90c2-726e327ac4db",
   "metadata": {},
   "outputs": [],
   "source": [
    "# camera parameters\n",
    "frame_interval = 0.00608576 #s\n",
    "pixel_size = 0.11 #um"
   ]
  },
  {
   "cell_type": "markdown",
   "id": "983f9157-b8ab-45b0-a723-8d5c6e5a7f42",
   "metadata": {},
   "source": [
    "### Convert trajectory formats"
   ]
  },
  {
   "cell_type": "code",
   "execution_count": null,
   "id": "174213dc-4444-4710-97c8-63d040ac6b1c",
   "metadata": {},
   "outputs": [],
   "source": [
    "quot_path = \"\" # path to masked quot output\n",
    "\n",
    "output_path = \"\" # output path for new format\n",
    "\n",
    "for quot_dir in os.listdir(quot_path):\n",
    "    print(quot_dir)\n",
    "    out_path = os.path.join(output_path, quot_dir)\n",
    "    if not os.path.exists(out_path):\n",
    "        os.makedirs(out_path) \n",
    "        \n",
    "    in_path = os.path.join(quot_path, quot_dir)\n",
    "    batch_prepare_for_spoton(in_path, out_path, pixel_size, frame_interval)"
   ]
  },
  {
   "cell_type": "markdown",
   "id": "8db1fe43-0e39-451b-b30d-61de0bbd14ac",
   "metadata": {},
   "source": [
    "### Convert trajectories to Anders format (see spoton website)"
   ]
  },
  {
   "cell_type": "code",
   "execution_count": null,
   "id": "5df0b1d1-d6b5-4c76-aa70-aecdfb5f8fd2",
   "metadata": {},
   "outputs": [],
   "source": [
    "datasets = {\"condition_1\": [],\n",
    "           \"condition_2\": []}\n",
    "\n",
    "for spoton_dir in os.listdir(output_path):\n",
    "    for key in datasets.keys():\n",
    "        print(spoton_dir, key)\n",
    "        key_dataset = convert_spoton_to_anders_format(os.path.join(output_path, spoton_dir), contains=key)\n",
    "        if key_dataset is not None:\n",
    "            datasets.get(key).append(key_dataset)"
   ]
  },
  {
   "cell_type": "markdown",
   "id": "6f934dc0-e7df-4a98-9719-03ad382cdac2",
   "metadata": {},
   "source": [
    "### Example analysis for a condition\n",
    "#### Per cell analysis"
   ]
  },
  {
   "cell_type": "code",
   "execution_count": null,
   "id": "5d322c60-90e4-481f-9407-d952e8868a25",
   "metadata": {},
   "outputs": [],
   "source": [
    "# fit condition_1 dataaset\n",
    "h1s, fits, ys = [], [], []\n",
    "dZ = 0.7\n",
    "for rep_dataset in datasets.get(\"condition_1\"):\n",
    "    # perform a two-state fit for each cell\n",
    "    h1, fit, y = fit_spoton_2_state(rep_dataset, frame_interval, cdf=True, use_entire_traj=True, \n",
    "                                    loc_error=None, fit_sigma=True, dZ=dZ)\n",
    "    h1s.append(h1)\n",
    "    fits.append(fit)\n",
    "    ys.append(y)"
   ]
  },
  {
   "cell_type": "code",
   "execution_count": null,
   "id": "932c45fa-79cb-4c9b-9b23-a3133853bd92",
   "metadata": {},
   "outputs": [],
   "source": [
    "## And perform the plot\n",
    "for h1, fit, y in zip(h1s, fits, ys):\n",
    "    HistVecJumps = h1[2]\n",
    "    JumpProb = h1[3]\n",
    "    HistVecJumpsCDF = h1[0]\n",
    "    JumpProbCDF = h1[1]\n",
    "    plt.figure(figsize=(10,6)) # Initialize the plot\n",
    "    fastspt_plot_histogram(HistVecJumps, JumpProb, HistVecJumpsCDF, y) "
   ]
  },
  {
   "cell_type": "markdown",
   "id": "e7a3e212-25f8-4203-aa88-fdd4e4ee41d0",
   "metadata": {},
   "source": [
    "#### Average analysis"
   ]
  },
  {
   "cell_type": "code",
   "execution_count": null,
   "id": "d99addf2-6339-4d8a-abb1-6b053276fee6",
   "metadata": {},
   "outputs": [],
   "source": [
    "# fit condition_1 dataaset\n",
    "avg_dataset = np.concatenate(datasets.get(\"condition_1\"))\n",
    "avg_h1, avg_fit, avg_y = fit_spoton_2_state(avg_dataset, frame_interval, cdf=True, use_entire_traj=True, \n",
    "                                loc_error=None, fit_sigma=True, dZ=dZ)"
   ]
  },
  {
   "cell_type": "code",
   "execution_count": null,
   "id": "68c7d08e-7ca9-4ddb-811d-eb9668ea7e71",
   "metadata": {},
   "outputs": [],
   "source": [
    "HistVecJumps = avg_h1[2]\n",
    "JumpProb = avg_h1[3]\n",
    "HistVecJumpsCDF = avg_h1[0]\n",
    "JumpProbCDF = avg_h1[1]\n",
    "plt.figure(figsize=(10,6)) # Initialize the plot\n",
    "fastspt_plot_histogram(HistVecJumps, JumpProb, HistVecJumpsCDF, avg_y) \n",
    "plt.savefig(\"condition_1_average.svg\", format=\"svg\")"
   ]
  },
  {
   "cell_type": "code",
   "execution_count": null,
   "id": "8be3827e-a397-479b-8742-5b11d9f5eaf0",
   "metadata": {},
   "outputs": [],
   "source": [
    "cmap = plt.get_cmap('viridis')\n",
    "colors = [cmap(i) for i in np.linspace(0, 1, avg_h1[3].shape[0])]\n",
    "\n",
    "fig, axs = plt.subplots(7, 1, sharex=True)\n",
    "bar_width = np.diff(avg_h1[2])[0]\n",
    "for i, ax in enumerate(reversed(axs)):\n",
    "    ax.plot(avg_h1[0], avg_h1[1][i, :], 'k-', linewidth=1)\n",
    "    ax.bar(avg_h1[2], np.cumsum(avg_h1[3][i, :]), align='edge', width=bar_width, color=colors[i])\n",
    "    ax.set_ylim([0, 1])\n",
    "    ax.patch.set_alpha(0)\n",
    "\n",
    "sns.despine()\n",
    "plt.subplots_adjust(hspace=-0.25)"
   ]
  },
  {
   "cell_type": "markdown",
   "id": "a90f536b-ed33-456c-8c07-6dcf6eb0c0ac",
   "metadata": {},
   "source": [
    "# fastSPT analysis with saSPT\n",
    "#### Read trajectories"
   ]
  },
  {
   "cell_type": "code",
   "execution_count": null,
   "id": "b760ab7d-8f97-4222-8105-f25a3a583dd4",
   "metadata": {},
   "outputs": [],
   "source": [
    "quot_dataframes = [\"\"] # list of directories to replicates\n",
    "\n",
    "directories = []\n",
    "conditions = []\n",
    "replicate = []\n",
    "for i, input_dir in enumerate(quot_dataframes):\n",
    "    for file in tqdm(os.listdir(input_dir)):\n",
    "            if file.split('.')[-1] == \"csv\":\n",
    "                df = pd.read_csv(os.path.join(input_dir, file))\n",
    "                if not df.empty:\n",
    "                    directories.append(os.path.join(input_dir, file))\n",
    "                    replicate.append(i+1)\n",
    "                    if \"condition_1\" in file:\n",
    "                        conditions.append(\"condition_1\")\n",
    "                    elif \"condition_2\" in file:\n",
    "                        conditions.append(\"condition_2\")\n",
    "                    else:\n",
    "                        conditions.append(\"else\")\n",
    "\n",
    "print(len(directories), len(conditions), len(replicate)) \n",
    "expt_conditions = pd.DataFrame({'filepath': directories, 'condition': conditions, 'replicate': replicate} )"
   ]
  },
  {
   "cell_type": "markdown",
   "id": "c98f2ed9-415c-4a56-aeaa-1af711dc3b3b",
   "metadata": {},
   "source": [
    "#### Perform state array analysis"
   ]
  },
  {
   "cell_type": "code",
   "execution_count": null,
   "id": "a061fd0d-b4de-4778-9676-c23eabc83760",
   "metadata": {},
   "outputs": [],
   "source": [
    "settings = dict(\n",
    "    likelihood_type = RBME,\n",
    "    pixel_size_um = pixel_size,\n",
    "    frame_interval = frame_interval,\n",
    "    focal_depth = 0.7,\n",
    "    path_col = 'filepath',\n",
    "    condition_col = 'condition',\n",
    "    progress_bar = True,\n",
    "    num_workers = 64,\n",
    ")\n",
    "SAD = StateArrayDataset.from_kwargs(expt_conditions, **settings)"
   ]
  },
  {
   "cell_type": "code",
   "execution_count": null,
   "id": "eb0f7372-aebc-41b9-8a5d-fd7153f3004e",
   "metadata": {},
   "outputs": [],
   "source": [
    "marginal_naive_occs = SAD.marginal_naive_occs\n",
    "marginal_posterior_occs = SAD.marginal_posterior_occs\n",
    "print(marginal_naive_occs.shape)\n",
    "print(marginal_posterior_occs.shape)"
   ]
  },
  {
   "cell_type": "code",
   "execution_count": null,
   "id": "a6024f9c-1430-4b65-a207-19bea539e4d8",
   "metadata": {},
   "outputs": [],
   "source": [
    "modified_df = SAD.marginal_posterior_occs_dataframe.copy()\n",
    "modified_df = modified_df[modified_df[\"condition\"] != \"else\"]"
   ]
  },
  {
   "cell_type": "code",
   "execution_count": null,
   "id": "c59aa0e0-3e24-43ad-a4df-ffe8e6bbe974",
   "metadata": {},
   "outputs": [],
   "source": [
    "fig, ax = plt.subplots(3, 1, figsize=(10, 10), \n",
    "                       dpi=600, sharex=True, height_ratios=[3, 1, 1])\n",
    "sns.lineplot(modified_df, x=\"diff_coef\", y=\"posterior_occupation\", hue=\"condition\", ax=ax[0])\n",
    "ax[0].set_xscale('log')\n",
    "# ax[0].set_xlim([0.01, 100])\n",
    "axis_lim = 0.075\n",
    "ax[0].set_ylim([0, axis_lim])\n",
    "converted_df = modified_df[modified_df[\"condition\"]==\"condition_1\"].set_index(\"diff_coef\").groupby(level=0).agg(list)[\"posterior_occupation\"].apply(pd.Series)\n",
    "converted_df.sort_values(by=list(converted_df.index), axis=1, inplace=True)\n",
    "x = converted_df.index\n",
    "y = np.arange(converted_df.shape[1])\n",
    "X,Y = np.meshgrid(x,y)\n",
    "\n",
    "ax[1].pcolormesh(X,Y,converted_df.to_numpy().T, vmax=axis_lim)\n",
    "ax[1].set_aspect('auto')\n",
    "\n",
    "converted_df = modified_df[modified_df[\"condition\"]==\"condition_2\"].set_index(\"diff_coef\").groupby(level=0).agg(list)[\"posterior_occupation\"].apply(pd.Series)\n",
    "converted_df.sort_values(by=list(converted_df.index), axis=1, inplace=True)\n",
    "x = converted_df.index\n",
    "y = np.arange(converted_df.shape[1])\n",
    "X,Y = np.meshgrid(x,y)\n",
    "\n",
    "ax[2].pcolormesh(X,Y,converted_df.to_numpy().T, vmax=axis_lim)\n",
    "ax[2].set_aspect('auto')\n",
    "\n",
    "plt.savefig(\"conditions_saspt_plot.svg\", format=\"svg\")"
   ]
  }
 ],
 "metadata": {
  "kernelspec": {
   "display_name": "notebook_1",
   "language": "python",
   "name": "notebook_1"
  },
  "language_info": {
   "codemirror_mode": {
    "name": "ipython",
    "version": 3
   },
   "file_extension": ".py",
   "mimetype": "text/x-python",
   "name": "python",
   "nbconvert_exporter": "python",
   "pygments_lexer": "ipython3",
   "version": "3.11.4"
  }
 },
 "nbformat": 4,
 "nbformat_minor": 5
}
