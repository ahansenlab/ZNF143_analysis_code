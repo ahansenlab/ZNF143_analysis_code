{
 "cells": [
  {
   "cell_type": "markdown",
   "id": "dcfefebf-a190-4412-b377-e6eba1b9c6e9",
   "metadata": {},
   "source": [
    "### Imports"
   ]
  },
  {
   "cell_type": "code",
   "execution_count": null,
   "id": "90d381bc-0a96-4434-97e5-d02fd3fc4d36",
   "metadata": {},
   "outputs": [],
   "source": [
    "# Package imports\n",
    "import os\n",
    "import numpy as np\n",
    "import pandas as pd\n",
    "from matplotlib import pyplot as plt\n",
    "import seaborn as sns\n",
    "# import libraries for biological data analysis\n",
    "from coolpuppy import coolpup\n",
    "from coolpuppy.lib import numutils\n",
    "from coolpuppy.lib.puputils import divide_pups\n",
    "from coolpuppy import plotpup\n",
    "from matplotlib.colors import LogNorm\n",
    "from mpl_toolkits.axes_grid1 import make_axes_locatable\n",
    "import cooler\n",
    "import bioframe\n",
    "import cooltools\n",
    "from cooltools import expected_cis, expected_trans\n",
    "from cooltools.lib import plotting\n",
    "import cooler as clr\n",
    "import h5py\n",
    "# Import python package for working with cooler files and tools for analysis\n",
    "import cooltools.lib.plotting\n",
    "from cooltools import insulation\n",
    "from itertools import product\n",
    "from scipy.stats import pearsonr"
   ]
  },
  {
   "cell_type": "markdown",
   "id": "93e9d405-65cc-4615-bf3d-7cce6d00fe91",
   "metadata": {},
   "source": [
    "### Read mcools"
   ]
  },
  {
   "cell_type": "code",
   "execution_count": null,
   "id": "e9046644-ede2-46cc-bb08-8669632dfca4",
   "metadata": {},
   "outputs": [],
   "source": [
    "file_path = \"\" # path to mcools \n",
    "mcool_files = [\"\"] # list of mcools for analysis\n",
    "\n",
    "resolution = 1000\n",
    "all_coolers = [read_cooler(os.path.join(file_path, mcool_file), resolution) for mcool_file in mcool_files]\n",
    "windows = [resolution, 2*resolution, 5*resolution, 10*resolution, 25*resolution, 50*resolution]\n",
    "insulation_tables = [insulation(a_cooler, windows, verbose=True, nproc=32) for a_cooler in all_coolers]"
   ]
  },
  {
   "cell_type": "markdown",
   "id": "1cc901e7-1dd0-42ae-8350-dcabe8981da6",
   "metadata": {},
   "source": [
    "### Make into bedgraphs"
   ]
  },
  {
   "cell_type": "code",
   "execution_count": null,
   "id": "83822887-329f-464f-8e14-f151fa1ca039",
   "metadata": {},
   "outputs": [],
   "source": [
    "names = [] # list of file names\n",
    "resolution = 1000 # base resolution\n",
    "make_bedgraphs(names, insulation_tables, resolution)"
   ]
  },
  {
   "cell_type": "markdown",
   "id": "34e0e57a-6b3a-4a1a-abe0-48c9812d19c8",
   "metadata": {},
   "source": [
    "### Visualize insulation score tracks"
   ]
  },
  {
   "cell_type": "code",
   "execution_count": null,
   "id": "6c85a583-5529-4c33-8448-76b2ddfe34e1",
   "metadata": {},
   "outputs": [],
   "source": [
    "plt.rcParams['font.size'] = 12\n",
    "window_start = 5\n",
    "\n",
    "# select region to visualize\n",
    "start = 164_000_000 \n",
    "end = 167_000_000\n",
    "region = ('chr2', start, end)\n",
    "\n",
    "norm = LogNorm(vmax=0.1, vmin=0.001)\n",
    "f, axs = plt.subplots(3, 1, sharex=True, dpi=600, layout='compressed')# , figsize=(18, 6))\n",
    "f.set_figwidth(12)\n",
    "\n",
    "for i, ax in enumerate(axs[:-1]):\n",
    "    data = all_coolers_low_res[i+4].matrix(balance=True).fetch(region)\n",
    "    im = pcolormesh_45deg(ax, data, start=region[1], resolution=resolution, norm=norm, cmap='fall')\n",
    "    ax.set_aspect(0.5)\n",
    "    ax.set_ylim(0, 550000) # define off-diagional distance\n",
    "    format_ticks(ax, rotate=False)\n",
    "    ax.xaxis.set_visible(False)\n",
    "\n",
    "\n",
    "f.colorbar(im, ax=axs)\n",
    "ins_ax = axs[-1]\n",
    "\n",
    "labels=[\"\"] # set plot labels\n",
    "ins_ax.set_prop_cycle(plt.cycler(\"color\", plt.cm.plasma(np.linspace(0,1,5))))\n",
    "\n",
    "for insulation_table, label in zip(insulation_tables, labels):\n",
    "    insul_region = bioframe.select(insulation_table, region)\n",
    "    ins_ax.plot(insul_region[['start', 'end']].mean(axis=1),\n",
    "                insul_region['log2_insulation_score_'+str(windows[window_start])],\n",
    "                label=label, alpha=0.8)\n",
    "\n",
    "    res = windows[window_start]\n",
    "    boundaries = insul_region[~np.isnan(insul_region[f'boundary_strength_{res}'])]\n",
    "    weak_boundaries = boundaries[~boundaries[f'is_boundary_{res}']]\n",
    "    strong_boundaries = boundaries[boundaries[f'is_boundary_{res}']]\n",
    "\n",
    "    ins_ax.scatter(strong_boundaries[['start', 'end']].mean(axis=1),\n",
    "                strong_boundaries[f'log2_insulation_score_{res}'], s=5, alpha=0.8)\n",
    "\n",
    "ins_ax.legend(bbox_to_anchor=(0., -1), loc='lower left', ncol=4);\n",
    "\n",
    "format_ticks(ins_ax, y=False, rotate=False)\n",
    "\n",
    "ax.set_xlim(region[1], region[2])\n",
    "plot_dir = \"\" # output directory for file\n",
    "plt.savefig(plot_dir, format='svg')"
   ]
  },
  {
   "cell_type": "markdown",
   "id": "d316b406-cd57-409b-b26c-8ff27bdb38fe",
   "metadata": {},
   "source": [
    "### Plot CDFs of boundary strengths"
   ]
  },
  {
   "cell_type": "code",
   "execution_count": null,
   "id": "ff3c1f8d-4364-4019-b326-4fe8d5581112",
   "metadata": {},
   "outputs": [],
   "source": [
    "histkwargs = dict(\n",
    "    bins=10**np.linspace(-4,1,200),\n",
    "    histtype='step',\n",
    "    lw=2, \n",
    "    cumulative=True,\n",
    "    density=True\n",
    ")\n",
    "\n",
    "f, axs = plt.subplots(len(windows[1:]),1, sharex=True, figsize=(12,12), constrained_layout=True, dpi=600)\n",
    "for insulation_table in insulation_tables:\n",
    "    for i, (w, ax) in enumerate(zip(windows[1:], axs)):\n",
    "        ax.hist(\n",
    "            insulation_table[f'boundary_strength_{w}'],\n",
    "            **histkwargs\n",
    "        )\n",
    "        ax.text(0.02, 0.9,\n",
    "                 f'Window {w//1000}kb',\n",
    "                 ha='left',\n",
    "                 va='top',\n",
    "                 transform=ax.transAxes)\n",
    "\n",
    "        ax.set(\n",
    "            xscale='log',\n",
    "            ylabel='# boundaries'\n",
    "        )\n",
    "\n",
    "axs[0].set_xlim([10e-5, 10])\n",
    "labels = [] # list of labels for legend\n",
    "axs[-1].legend(labels, bbox_to_anchor=(0., -0.5), loc='lower left', ncol = len(insulation_tables))\n",
    "axs[-1].set(xlabel='Boundary strength');\n",
    "\n",
    "sns.despine()\n",
    "plot_dir = \"\" # output directory for plot\n",
    "plt.savefig(plot_dir, format='svg')\n"
   ]
  },
  {
   "cell_type": "markdown",
   "id": "d1b483ae-6334-4993-8eb7-4ff277e6a0ca",
   "metadata": {},
   "source": [
    "### Plot correlation matrix"
   ]
  },
  {
   "cell_type": "code",
   "execution_count": null,
   "id": "76684cbd-ffa3-4229-bf94-3e806f852ca4",
   "metadata": {},
   "outputs": [],
   "source": [
    "insulation_len = len(insulation_tables)\n",
    "fig, ax = plt.subplots(insulation_len, insulation_len, figsize=(12,12), dpi=600,\n",
    "                      sharex=True, sharey=True)\n",
    "\n",
    "labels=[] # list of labels for correlation matrix\n",
    "for i, j in product(range(insulation_len), range(insulation_len)):\n",
    "    if i <= j:\n",
    "        insulation_1, insulation_2 = insulation_tables[i], insulation_tables[j]\n",
    "        insulation_score_1 = insulation_1['log2_insulation_score_'+str(windows[window_start])]\n",
    "        insulation_score_2 = insulation_2['log2_insulation_score_'+str(windows[window_start])]\n",
    "        nan_mask = np.logical_and(~np.isnan(insulation_score_1), ~np.isnan(insulation_score_2))\n",
    "        insulation_score_1 = insulation_score_1[nan_mask].to_numpy()\n",
    "        insulation_score_2 = insulation_score_2[nan_mask].to_numpy()\n",
    "        \n",
    "        #subsample\n",
    "        selection = np.random.choice(len(insulation_score_1), 10000, replace=False)\n",
    "\n",
    "        sns.kdeplot(x=insulation_score_1[selection], \n",
    "                    y=insulation_score_2[selection] + 1e-6 * np.random.standard_normal(selection.shape), \n",
    "                    ax=ax[i, j], thresh=0.02, fill=True, levels=8)\n",
    "        corr_coefficient = pearsonr(insulation_score_1, \n",
    "                                    insulation_score_2).statistic\n",
    "        ax[i, j].text(0.02, 0.9,\n",
    "                 f'{corr_coefficient:.2f}',\n",
    "                 ha='left',\n",
    "                 va='top',\n",
    "                 transform=ax[i, j].transAxes)\n",
    "        if i == 0:\n",
    "            ax[i, j].set_title(labels[j])\n",
    "        \n",
    "        if i == j:\n",
    "            ax[i, j].set_ylabel(labels[i])\n",
    "        \n",
    "        ax[i, j].set_xlim([-1.5, 1.5])\n",
    "        ax[i, j].set_ylim([-1.5, 1.5])\n",
    "        ax[i, j].plot(np.linspace(-2, 2), np.linspace(-2, 2), 'k', linewidth=0.5)\n",
    "    else:\n",
    "        fig.delaxes(ax[i][j])\n",
    "        \n",
    "plot_dir = \"\" # output directory for plot\n",
    "plt.savefig(plot_dir, format='svg')"
   ]
  },
  {
   "cell_type": "markdown",
   "id": "021cc17b-697d-4392-b9d1-2d63410ad8b8",
   "metadata": {},
   "source": [
    "# Functions"
   ]
  },
  {
   "cell_type": "code",
   "execution_count": null,
   "id": "3d037ff6-fdfa-40a7-bcd7-93f28ddbfab4",
   "metadata": {},
   "outputs": [],
   "source": [
    "# Make bedgraphs\n",
    "def make_bedgraphs(names, insulation_tables, resolution):\n",
    "    \"\"\"\n",
    "    Takes output from cooltools insulation and saves it as a bedgraph. \n",
    "    \"\"\"\n",
    "    windows = [50*resolution]\n",
    "    for name_insulation_table, w in product(zip(names, insulation_tables), windows):\n",
    "        name, insulation_table = name_insulation_table\n",
    "\n",
    "        # output bedgraph\n",
    "        insulation_table[[\"chrom\", \"start\", \"end\", f\"log2_insulation_score_{w}\"]].dropna().to_csv(os.path.join(\"insulations/\", \n",
    "                                                                                                      \".\".join([name[:-4],\n",
    "                                                                                                                \"res250\",\n",
    "                                                                                                               str(w),\n",
    "                                                                                                              \"bedgraph\"])),\n",
    "                                                                                                     header=False, sep=\"\\t\",\n",
    "                                                                                        index=False)\n",
    "\n",
    "        # output boundary locations\n",
    "        insulation_table[insulation_table[f\"is_boundary_{w}\"]][[\"chrom\", \"start\", \"end\", f\"boundary_strength_{w}\"]].dropna().to_csv(os.path.join(\"insulations/\", \n",
    "                                                                                                  \".\".join([name[:-4],\n",
    "                                                                                                            \"_boundaries\",\n",
    "                                                                                                           str(w),\n",
    "                                                                                                          \"bed\"])),\n",
    "                                                                                                 header=False, sep=\"\\t\", index=False)"
   ]
  }
 ],
 "metadata": {
  "kernelspec": {
   "display_name": "notebook_1",
   "language": "python",
   "name": "notebook_1"
  },
  "language_info": {
   "codemirror_mode": {
    "name": "ipython",
    "version": 3
   },
   "file_extension": ".py",
   "mimetype": "text/x-python",
   "name": "python",
   "nbconvert_exporter": "python",
   "pygments_lexer": "ipython3",
   "version": "3.11.4"
  }
 },
 "nbformat": 4,
 "nbformat_minor": 5
}
