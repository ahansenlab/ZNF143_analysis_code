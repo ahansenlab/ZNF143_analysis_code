{
 "cells": [
  {
   "cell_type": "code",
   "execution_count": null,
   "id": "1e505e86-3624-48e2-8974-9913496e5650",
   "metadata": {},
   "outputs": [],
   "source": [
    "%load pileup_analysis.py"
   ]
  },
  {
   "cell_type": "markdown",
   "id": "af5d4b91-aca9-439d-9d9a-89349c212c36",
   "metadata": {},
   "source": [
    "### Set directory to mcools"
   ]
  },
  {
   "cell_type": "code",
   "execution_count": 1,
   "id": "166bcb8c-253f-4251-a0ef-6c5fa4febe3e",
   "metadata": {},
   "outputs": [],
   "source": [
    "file_path = \"\" # path to mcools\n",
    "mcool_files = [\"\"] # list of mcool files\n",
    "resolution = 5000 # resolution for analysis"
   ]
  },
  {
   "cell_type": "markdown",
   "id": "8c892f84-34e8-4fd1-9372-5f67869df66d",
   "metadata": {},
   "source": [
    "### Compute expected"
   ]
  },
  {
   "cell_type": "code",
   "execution_count": null,
   "id": "254cb0a5-bd73-444c-ae26-5d143b39c103",
   "metadata": {},
   "outputs": [],
   "source": [
    "# Get chr arms\n",
    "# Use bioframe to fetch the genomic features from the UCSC.\n",
    "mm39_chromsizes = bioframe.fetch_chromsizes('mm39')\n",
    "mm39_cens = bioframe.fetch_centromeres('mm39')\n",
    "mm39_arms = bioframe.make_chromarms(mm39_chromsizes, mm39_cens)\n",
    "\n",
    "# call this to automaticly assign names to chromosomal arms:\n",
    "mm39_arms = bioframe.make_viewframe(mm39_arms)\n",
    "# mm39_arms.to_csv('mm39_arms.bed', sep='\\t', header=False, index=False) # To use in CLI\n",
    "mm39_arms"
   ]
  },
  {
   "cell_type": "code",
   "execution_count": null,
   "id": "e09ee821-3caf-483c-befd-6aea94105663",
   "metadata": {},
   "outputs": [],
   "source": [
    "# Compute expected ... takes some time\n",
    "expected_df_list = []\n",
    "output_names = ['expected/' + name.split(\".\")[0] + '_expected_cis.tsv' for name in mcool_files]\n",
    "for mcool_file, output_name in zip(mcool_files, output_names):\n",
    "    curr_cooler = read_cooler(os.path.join(file_path, mcool_file), resolution)\n",
    "    expected = expected_cis(\n",
    "        curr_cooler,\n",
    "        ignore_diags=0,\n",
    "        view_df=mm39_arms,\n",
    "        chunksize=1000000)\n",
    "    expected_df_list.append(expected)\n",
    "    expected.to_csv(output_name, sep='\\t', index=False, header=True) # Let's save to use in CLI"
   ]
  },
  {
   "cell_type": "markdown",
   "id": "98ff4bfc-3002-4773-88ed-8b5150e14b3f",
   "metadata": {},
   "source": [
    "### Load expected"
   ]
  },
  {
   "cell_type": "code",
   "execution_count": null,
   "id": "351b9710-19c0-4d22-b399-72aa1818d526",
   "metadata": {},
   "outputs": [],
   "source": [
    "output_names = ['expected/' + name.split(\".\")[0] + '_expected_cis.tsv' for name in mcool_files]\n",
    "expected_df_list = [pd.read_csv(file, sep=\"\\t\") for file in output_names]\n",
    "expected_df_list"
   ]
  },
  {
   "cell_type": "markdown",
   "id": "ad2235c4-bae7-4c81-aa3b-1af0d354cc6a",
   "metadata": {},
   "source": [
    "### Loop analysis"
   ]
  },
  {
   "cell_type": "code",
   "execution_count": null,
   "id": "9d3f056c-916f-41ff-99e0-9a69f4a31309",
   "metadata": {},
   "outputs": [],
   "source": [
    "loops_path = \"\" # path to loops\n",
    "tsv_files = len(mcool_files)*[\"\"] # directory to loop calls\n",
    "all_pileups = generate_multiple_dot_pileups2(mcool_files, tsv_files, resolution, view_df = mm39_arms, \n",
    "                                                  expected=expected_df_list,\n",
    "                                                 parent_dir=file_path, csv_dir=loops_path)\n",
    "\n",
    "fg = plotpup.plot(all_pileups, cols='cooler',\n",
    "                  score=True, cmap='YlOrBr', scale='log', sym=False,\n",
    "                  height=5, col_order=[file[:-6] for file in mcool_files], despine=False)\n",
    "\n",
    "plot_dir = \"\" # output path for plots\n",
    "name = \"\" # name for plot output\n",
    "plt.savefig(os.path.join(plot_dir, name), format='svg')"
   ]
  }
 ],
 "metadata": {
  "kernelspec": {
   "display_name": "notebook_1",
   "language": "python",
   "name": "notebook_1"
  },
  "language_info": {
   "codemirror_mode": {
    "name": "ipython",
    "version": 3
   },
   "file_extension": ".py",
   "mimetype": "text/x-python",
   "name": "python",
   "nbconvert_exporter": "python",
   "pygments_lexer": "ipython3",
   "version": "3.11.4"
  }
 },
 "nbformat": 4,
 "nbformat_minor": 5
}
