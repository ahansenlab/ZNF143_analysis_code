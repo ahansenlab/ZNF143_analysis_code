{
 "cells": [
  {
   "cell_type": "code",
   "execution_count": 1,
   "id": "32cfe9fa-5351-4e52-9ca2-5938ec5db918",
   "metadata": {},
   "outputs": [],
   "source": [
    "%load region_visualization.py"
   ]
  },
  {
   "cell_type": "markdown",
   "id": "207bf796-2dc2-4936-b93c-52a74586248d",
   "metadata": {},
   "source": [
    "### Define file paths"
   ]
  },
  {
   "cell_type": "code",
   "execution_count": null,
   "id": "0ae41328-d47f-41b6-97f2-ea5193e4e036",
   "metadata": {},
   "outputs": [],
   "source": [
    "mcool_path = \"\" # provide path to mcool files\n",
    "mcool_files = [\"\"] # provide file names for mcool files\n",
    "\n",
    "mcool_files = cat_prefix_to_list(mcool_path, mcool_files)\n",
    "\n",
    "chip_path = \"\" # provide path to chip files \n",
    "chip_condition_bigwigs = [\"\"] # provide chip file names\n",
    "\n",
    "\n",
    "chip_condition_bigwigs = cat_prefix_to_list(chip_path, a9b7_ctcf_bigwigs)\n",
    "\n",
    "proseq_path = \"\" # provide path to proseq files\n",
    "proseq_forward_bigwigs = [\"untr_F._normD1.05.bw\", \"ZNF_F._normD1.00.bw\", \n",
    "                          \"CTCF_F._normD1.26.bw\", \"dual_F._normD1.24.bw\"]\n",
    "proseq_reverse_bigwigs = [\"untr_R._normD1.05.bw\", \"ZNF_R._normD1.00.bw\", \n",
    "                          \"CTCF_R._normD1.26.bw\", \"dual_R._normD1.24.bw\"]\n",
    "\n",
    "proseq_forward_bigwigs = cat_prefix_to_list(proseq_path, proseq_forward_bigwigs)\n",
    "proseq_reverse_bigwigs = cat_prefix_to_list(proseq_path, proseq_reverse_bigwigs)\n",
    "\n",
    "condition_order = [\"Untreated\", \"∆ZNF143\", \"∆CTCF\", \"∆ZNF143/∆CTCF\"]"
   ]
  },
  {
   "cell_type": "markdown",
   "id": "7f766e4d-870d-4ca9-ac6d-866e2011f5b7",
   "metadata": {},
   "source": [
    "### Plot regions\n",
    "#### Plot single region"
   ]
  },
  {
   "cell_type": "code",
   "execution_count": null,
   "id": "41ed8c2f-7ab0-4aef-a6b5-dbde11b2f5ac",
   "metadata": {},
   "outputs": [],
   "source": [
    "region_str = \"\" # provide region in format like chr15:99,921,434-100,682,822\n",
    "region_plot_params = {\"region\": region_str,\n",
    "                    \"resolution\": 2000,\n",
    "                    \"highlight_region_list\": [[\"chr15\", 100_377_451, 100_393_120]], \n",
    "                    \"microc_file\": microc_files[0],\n",
    "                    \"microc_title\": \"Micro-C\",\n",
    "                    \"chip_list_list\": [chip_condition_bigwigs],\n",
    "                    \"forward_proseq_list\": proseq_forward_bigwigs,\n",
    "                    \"reverse_proseq_list\": proseq_reverse_bigwigs,\n",
    "                    \"condition_order\": condition_order}\n",
    "\n",
    "frame = make_region_plot(**region_plot_params)\n",
    "fig = frame.plot(region_str)\n",
    "fig"
   ]
  },
  {
   "cell_type": "markdown",
   "id": "3d46ac76-5fb9-4b58-9d55-539428bb4a63",
   "metadata": {},
   "source": [
    "#### Plot multiple regions"
   ]
  },
  {
   "cell_type": "code",
   "execution_count": null,
   "id": "48e5c6fc-96d6-48af-a512-48fe03332058",
   "metadata": {},
   "outputs": [],
   "source": [
    "region_str = \"\"\n",
    "highlight_list = [\"chr15\", 100_377_451, 100_393_120]\n",
    "microc_names = [\"\"] # name for each micro-c condition\n",
    "plot_dir = \"\" # directory to output plots\n",
    "\n",
    "for microc_file, name in zip(mcool_files, microc_names):\n",
    "region_plot_params = {\"region\": region_str,\n",
    "                    \"resolution\": 2000,\n",
    "                    \"highlight_region_list\": [[\"chr15\", 100_377_451, 100_393_120]], \n",
    "                    \"microc_file\": microc_file,\n",
    "                    \"microc_title\": \"Micro-C\",\n",
    "                    \"chip_list_list\": [chip_condition_bigwigs],\n",
    "                    \"forward_proseq_list\": proseq_forward_bigwigs,\n",
    "                    \"reverse_proseq_list\": proseq_reverse_bigwigs,\n",
    "                    \"condition_order\": condition_order}\n",
    "\n",
    "    frame = make_region_plot(**region_plot_params)\n",
    "    fig = frame.plot(region_str)\n",
    "    fig.savefig(os.path.join(plot_dir, \"gene_\" + name + \".svg\"), format='svg')"
   ]
  }
 ],
 "metadata": {
  "kernelspec": {
   "display_name": "notebook_1",
   "language": "python",
   "name": "notebook_1"
  },
  "language_info": {
   "codemirror_mode": {
    "name": "ipython",
    "version": 3
   },
   "file_extension": ".py",
   "mimetype": "text/x-python",
   "name": "python",
   "nbconvert_exporter": "python",
   "pygments_lexer": "ipython3",
   "version": "3.11.4"
  }
 },
 "nbformat": 4,
 "nbformat_minor": 5
}
