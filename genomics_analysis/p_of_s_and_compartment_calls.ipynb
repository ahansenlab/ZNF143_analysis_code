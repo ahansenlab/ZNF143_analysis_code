{
 "cells": [
  {
   "cell_type": "markdown",
   "id": "59b8926f-c989-4f57-bb06-2d113ff50edc",
   "metadata": {},
   "source": [
    "### Imports"
   ]
  },
  {
   "cell_type": "code",
   "execution_count": null,
   "id": "f352de39-3693-4c25-bace-dea93ba3e34d",
   "metadata": {},
   "outputs": [],
   "source": [
    "# Package imports\n",
    "import os, subprocess\n",
    "from itertools import combinations\n",
    "import numpy as np\n",
    "import pandas as pd\n",
    "from matplotlib import pyplot as plt\n",
    "from matplotlib.colors import LogNorm\n",
    "from mpl_toolkits.axes_grid1 import make_axes_locatable\n",
    "import seaborn as sns\n",
    "# import libraries for biological data analysis\n",
    "from coolpuppy import coolpup\n",
    "from coolpuppy.lib import numutils\n",
    "from coolpuppy.lib.puputils import divide_pups\n",
    "from coolpuppy import plotpup\n",
    "import cooler\n",
    "import bioframe\n",
    "import cooltools\n",
    "from cooltools import expected_cis, expected_trans\n",
    "from cooltools.lib import plotting\n",
    "import cooler as clr\n",
    "import h5py\n",
    "# import open2c libraries\n",
    "import bioframe\n",
    "from itertools import product\n",
    "from scipy.stats import pearsonr"
   ]
  },
  {
   "cell_type": "markdown",
   "id": "2ee70282-b21a-40f2-9d58-f366e9a02040",
   "metadata": {},
   "source": [
    "# P(s) curve plotting"
   ]
  },
  {
   "cell_type": "code",
   "execution_count": null,
   "id": "c1310268-9f01-4c7c-9237-a8a3ea53aa77",
   "metadata": {},
   "outputs": [],
   "source": [
    "file_path = \"\" # path to mcool files\n",
    "mcool_files = [\"\"] # list of mcool files to analyze\n",
    "\n",
    "resolution = 1000 # mcool resolutions\n",
    "all_coolers = [read_cooler(os.path.join(file_path, mcool_file), resolution) for mcool_file in mcool_files]\n",
    "\n",
    "# Use bioframe to fetch the genomic features from the UCSC.\n",
    "mm39_chromsizes = bioframe.fetch_chromsizes('mm39')\n",
    "mm39_cens = bioframe.fetch_centromeres('mm39')\n",
    "# create a view with chromosome arms using chromosome sizes and definition of centromeres\n",
    "mm39_arms = bioframe.make_chromarms(mm39_chromsizes,  mm39_cens)\n",
    "\n",
    "# select only those chromosomes available in cooler\n",
    "mm39_arms = mm39_arms[mm39_arms.chrom.isin(all_coolers[0].chromnames)].reset_index(drop=True)"
   ]
  },
  {
   "cell_type": "markdown",
   "id": "a1363ead-1f2b-4b30-b36b-2d70d6a6a59d",
   "metadata": {},
   "source": [
    "### Contact vs distance calculation"
   ]
  },
  {
   "cell_type": "code",
   "execution_count": null,
   "id": "00aab00c-23a0-4bde-bfc7-830b58322baf",
   "metadata": {},
   "outputs": [],
   "source": [
    "# cvd == contacts-vs-distance\n",
    "all_cvds = []\n",
    "cvd_path = \"\" # output path for contact vs distance calculations\n",
    "for all_cooler, mcool_file in zip(all_coolers, mcool_files):\n",
    "    cvd = cooltools.expected_cis(\n",
    "        clr=all_cooler,\n",
    "        view_df=mm39_arms,\n",
    "        smooth=True,\n",
    "        aggregate_smoothed=True,\n",
    "        nproc=20 #if you do not have multiple cores available, set to 1\n",
    "    )\n",
    "    name = mcool_file.split(\".\")[0] + \".csv\"\n",
    "    cvd.to_csv(os.path.join(cvd_path, name))\n",
    "    all_cvds.append(cvd)"
   ]
  },
  {
   "cell_type": "markdown",
   "id": "f61c7931-1640-4133-a9c4-e0fdc75365f2",
   "metadata": {},
   "source": [
    "### Plot contact vs distance"
   ]
  },
  {
   "cell_type": "code",
   "execution_count": null,
   "id": "56b11205-8171-4ef5-b803-0737d4385733",
   "metadata": {},
   "outputs": [],
   "source": [
    "pruned_cvds = [cvd[~cvd[\"region1\"].isin(['chrY_p', 'chrM_p'])] for cvd in all_cvds] # remove Y and M chromosome from analysis\n",
    "\n",
    "f, ax = plt.subplots(2,1,gridspec_kw={'height_ratios':[6,2]},\n",
    "    sharex=True, figsize=(6, 8))\n",
    "\n",
    "labels=[\"\"] # condition labels\n",
    "\n",
    "for i, cvd in enumerate(pruned_cvds):\n",
    "    cvd['s_bp'] = cvd['dist']* resolution\n",
    "    cvd['balanced.avg.smoothed.agg'].loc[cvd['dist'] < 2] = np.nan\n",
    "    ax[0].loglog(\n",
    "        cvd['s_bp'],\n",
    "        cvd['balanced.avg.smoothed.agg'],\n",
    "    )\n",
    "    ax[0].set(\n",
    "        ylabel='IC contact frequency')\n",
    "\n",
    "    ax[0].grid(lw=0.5)\n",
    "    ax[0].set_title(\"\") # set the plot title\n",
    "    ax[0].set_xticklabels([])\n",
    "\n",
    "    der = np.gradient(np.log(cvd['balanced.avg.smoothed.agg']),\n",
    "      np.log(cvd['s_bp']))\n",
    "    ax[1].semilogx(\n",
    "        cvd['s_bp'],\n",
    "        der,\n",
    "        alpha=0.5\n",
    "    )\n",
    "    ax[1].set_ylabel('slope')\n",
    "    ax[1].set(xlabel='separation, bp')\n",
    "    ax[1].grid(lw=0.5)\n",
    "    \n",
    "ax[0].legend(labels)\n",
    "plot_dir = \"\" # output directory for plots\n",
    "plt.savefig(os.path.join(plot_dir, \"name_of_plot.svg\"), format='svg')"
   ]
  },
  {
   "cell_type": "markdown",
   "id": "c757e5c3-b3be-4387-96a9-2bfc61907602",
   "metadata": {},
   "source": [
    "# Compartment calls"
   ]
  },
  {
   "cell_type": "code",
   "execution_count": null,
   "id": "92910339-d906-4f7c-9d6a-153691490552",
   "metadata": {},
   "outputs": [],
   "source": [
    "## fasta sequence is required for calculating binned profile of GC conent\n",
    "if not os.path.isfile('./mm39.fa'):\n",
    "    ## note downloading a ~1Gb file can take a minute\n",
    "    subprocess.call('wget --progress=bar:force:noscroll https://hgdownload.cse.ucsc.edu/goldenpath/mm39/bigZips/mm39.fa.gz', shell=True)\n",
    "    subprocess.call('gunzip mm39.fa.gz', shell=True)"
   ]
  },
  {
   "cell_type": "code",
   "execution_count": null,
   "id": "d692d53e-afb8-4657-bb46-4a1c58bb8c95",
   "metadata": {},
   "outputs": [],
   "source": [
    "# read mcools\n",
    "file_path = \"\" # path to mcool files\n",
    "mcool_files = [\"\"] # list of mcool files\n",
    "\n",
    "resolution = 500000\n",
    "all_coolers = [read_cooler(os.path.join(file_path, mcool_file), resolution) for mcool_file in mcool_files]"
   ]
  },
  {
   "cell_type": "code",
   "execution_count": 1,
   "id": "a563c396-c13e-441c-a625-72ca9658bc05",
   "metadata": {},
   "outputs": [],
   "source": [
    "# make view_df\n",
    "bins = all_coolers[0].bins()[:]\n",
    "mm39_genome = bioframe.load_fasta('./mm39.fa');\n",
    "## note the next command may require installing pysam\n",
    "gc_cov = bioframe.frac_gc(bins[['chrom', 'start', 'end']], mm39_genome)\n",
    "gc_cov.to_csv('mm39_gc_cov_100kb.tsv',index=False,sep='\\t')\n",
    "display(gc_cov)\n",
    "\n",
    "view_df = pd.DataFrame({'chrom': all_coolers[0].chromnames,\n",
    "                        'start': 0,\n",
    "                        'end': all_coolers[0].chromsizes.values,\n",
    "                        'name': all_coolers[0].chromnames}\n",
    "                      )\n",
    "view_df = view_df[view_df.chrom != 'chrY']\n",
    "view_df = view_df[view_df.chrom != 'chrM']\n",
    "\n",
    "display(view_df)"
   ]
  },
  {
   "cell_type": "markdown",
   "id": "161d5d51-f73d-4521-8675-c51f6be2f322",
   "metadata": {},
   "source": [
    "### Compute eigenvectors"
   ]
  },
  {
   "cell_type": "code",
   "execution_count": null,
   "id": "20224ac1-ebfc-4a73-950d-3d1e88384a84",
   "metadata": {},
   "outputs": [],
   "source": [
    "comp_path = \"\" # output path for eigenvector computation\n",
    "all_eigenvals, all_eigenvectors = [], []\n",
    "for all_cooler, mcool_name in zip(all_coolers, mcool_files):\n",
    "    # obtain first 3 eigenvectors\n",
    "    eigvals, eigvecs = cooltools.eigs_cis(\n",
    "                            all_cooler,\n",
    "                            gc_cov,\n",
    "                            view_df=view_df,\n",
    "                            n_eigs=3,\n",
    "                            )\n",
    "    name = mcool_name.split(\".\")[0]\n",
    "#     eigvals.to_csv(os.path.join(comp_path, name + \"_eigvals.csv\"))\n",
    "#     eigvecs.to_csv(os.path.join(comp_path, name + \"_eigvecs.csv\"))\n",
    "    all_eigenvals.append(eigvals)\n",
    "    all_eigenvectors.append(eigvecs)"
   ]
  },
  {
   "cell_type": "markdown",
   "id": "9522f7da-f797-4eff-85a3-1b81f43523a1",
   "metadata": {},
   "source": [
    "### Plot eigenvector"
   ]
  },
  {
   "cell_type": "code",
   "execution_count": null,
   "id": "96753595-0e37-49e6-948a-fb2172d6be19",
   "metadata": {},
   "outputs": [],
   "source": [
    "unt_cis_eigs = all_eigenvectors[0]\n",
    "unt_eigenvector_track = unt_cis_eigs[['chrom','start','end','E1']]\n",
    "f, ax = plt.subplots(\n",
    "    figsize=(15, 10),\n",
    ")\n",
    "\n",
    "chr_start_mb = 5\n",
    "chr_end_mb = 190\n",
    "\n",
    "norm = LogNorm(vmax=0.1)\n",
    "\n",
    "im = ax.matshow(\n",
    "    all_coolers[0].matrix()[:],\n",
    "    norm=norm,\n",
    "    cmap='fall'\n",
    ");\n",
    "plt.axis([chr_start_mb *2,chr_end_mb *2,chr_end_mb *2,chr_start_mb *2])\n",
    "\n",
    "divider = make_axes_locatable(ax)\n",
    "cax = divider.append_axes(\"right\", size=\"5%\", pad=0.1)\n",
    "plt.colorbar(im, cax=cax, label='corrected frequencies');\n",
    "ax.set_ylabel(f'chr1:{chr_start_mb}-{chr_end_mb}Mb')\n",
    "ax.xaxis.set_visible(False)\n",
    "\n",
    "ax1 = divider.append_axes(\"top\", size=\"20%\", pad=0.25, sharex=ax)\n",
    "weights = all_coolers[0].bins()[:]['weight'].values\n",
    "ax1.plot([chr_start_mb*10,chr_end_mb*10],[0,0],'k',lw=0.25)\n",
    "norm_e1 = unt_eigenvector_track['E1'].values #/ np.amax(unt_eigenvector_track['E1'].values)\n",
    "ax1.fill_between(np.arange(0, len(norm_e1)), 0, norm_e1, where=norm_e1>0, facecolor='red', interpolate=True)\n",
    "ax1.fill_between(np.arange(0, len(norm_e1)), 0, norm_e1, where=norm_e1<=0, facecolor='green', interpolate=True)\n",
    "\n",
    "ax1.plot( unt_eigenvector_track['E1'].values / np.amax(unt_eigenvector_track['E1'].values), label='E1')\n",
    "ax1.set_ylim([np.nanmin(unt_eigenvector_track['E1'].values), np.nanmax(unt_eigenvector_track['E1'].values)])\n",
    "\n",
    "ax1.set_xticks([])\n",
    "ax1.set_yticks([])\n",
    "\n",
    "plot_dir = \"\" # output directory\n",
    "plt.savefig(os.path.join(plot_dir, \"name.svg\"), format='svg')"
   ]
  },
  {
   "cell_type": "markdown",
   "id": "59165a75-764b-4475-806d-f09471888378",
   "metadata": {},
   "source": [
    "### Plot correlation matrix"
   ]
  },
  {
   "cell_type": "code",
   "execution_count": null,
   "id": "092b2f39-47e7-4df7-91ae-73a8b3c39594",
   "metadata": {},
   "outputs": [],
   "source": [
    "eigenvector_len = len(all_eigenvectors)\n",
    "fig, ax = plt.subplots(eigenvector_len, eigenvector_len, figsize=(12,12), dpi=600,\n",
    "                      sharex=True, sharey=True)\n",
    "\n",
    "labels=[\"\"] # \n",
    "for i, j in product(range(eigenvector_len), range(eigenvector_len)):\n",
    "    if i <= j:\n",
    "        eigenvector_1, eigenvector_2 = all_eigenvectors[i]['E1'], all_eigenvectors[j]['E1']\n",
    "        nan_mask = np.logical_and(~np.isnan(eigenvector_1), ~np.isnan(eigenvector_2))\n",
    "        eigenvector_1 = eigenvector_1[nan_mask].to_numpy()\n",
    "        eigenvector_2 = eigenvector_2[nan_mask].to_numpy()\n",
    "        \n",
    "        #subsample\n",
    "\n",
    "        sns.kdeplot(x=eigenvector_1, \n",
    "                    y=eigenvector_2 + 1e-6 * np.random.standard_normal(eigenvector_2.shape), \n",
    "                    ax=ax[i, j], thresh=0.05, fill=True, levels=8)\n",
    "        corr_coefficient = pearsonr(eigenvector_1, \n",
    "                                    eigenvector_2).statistic\n",
    "        ax[i, j].text(0.02, 0.9,\n",
    "                 f'{corr_coefficient:.2f}',\n",
    "                 ha='left',\n",
    "                 va='top',\n",
    "                 transform=ax[i, j].transAxes)\n",
    "        if i == 0:\n",
    "            ax[i, j].set_title(labels[j])\n",
    "        \n",
    "        if i == j:\n",
    "            ax[i, j].set_ylabel(labels[i])\n",
    "        \n",
    "        ax[i, j].set_xlim([-1.5, 1.5])\n",
    "        ax[i, j].set_ylim([-1.5, 1.5])\n",
    "        ax[i, j].plot(np.linspace(-2, 2), np.linspace(-2, 2), 'k', linewidth=0.5)\n",
    "    else:\n",
    "        fig.delaxes(ax[i][j])\n",
    "        \n",
    "plot_dir = \"\" # output directory\n",
    "plt.savefig(plot_dir, format='svg')"
   ]
  }
 ],
 "metadata": {
  "kernelspec": {
   "display_name": "notebook_1",
   "language": "python",
   "name": "notebook_1"
  },
  "language_info": {
   "codemirror_mode": {
    "name": "ipython",
    "version": 3
   },
   "file_extension": ".py",
   "mimetype": "text/x-python",
   "name": "python",
   "nbconvert_exporter": "python",
   "pygments_lexer": "ipython3",
   "version": "3.11.4"
  }
 },
 "nbformat": 4,
 "nbformat_minor": 5
}
