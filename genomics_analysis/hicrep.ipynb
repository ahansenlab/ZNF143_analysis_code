{
 "cells": [
  {
   "cell_type": "code",
   "execution_count": null,
   "id": "92a3f06e-8e2f-47af-bff6-f8b8b9dad5ce",
   "metadata": {},
   "outputs": [],
   "source": [
    "%load hicrep.py"
   ]
  },
  {
   "cell_type": "markdown",
   "id": "033f4971-4fa5-42d0-a260-af16a896f8c3",
   "metadata": {},
   "source": [
    "### Set global parameters"
   ]
  },
  {
   "cell_type": "code",
   "execution_count": 1,
   "id": "d24814f6-1c75-4058-99ac-200afec37352",
   "metadata": {},
   "outputs": [],
   "source": [
    "# Set some global parameters\n",
    "max_dist = 5000000\n",
    "h_max = 10\n",
    "resolution = 50000\n",
    "\n",
    "whitelist = [\"chr3\", \"chr9\", \"chr14\"] # can pick a random sampling of chromosomes for speed"
   ]
  },
  {
   "cell_type": "markdown",
   "id": "bfa3033e-42f0-4497-ba6d-cf8738983cd0",
   "metadata": {},
   "source": [
    "### Read mcools"
   ]
  },
  {
   "cell_type": "code",
   "execution_count": null,
   "id": "bffd4496-5460-4226-a9a9-bde296b9a510",
   "metadata": {},
   "outputs": [],
   "source": [
    "file_path = \"\" # path to mcools\n",
    "mcool_files = [\"\"] # list of mcool files \n",
    "multi_coolers = [read_cooler(os.path.join(file_path, mcool_file), resolution) for mcool_file in mcool_files] # read mcool files at resolution\n",
    "h_train_idxs = [0, 1]"
   ]
  },
  {
   "cell_type": "markdown",
   "id": "a05108ca-dcbc-40a4-8be2-5e84e641d2e1",
   "metadata": {},
   "source": [
    "### Find optimal h value"
   ]
  },
  {
   "cell_type": "code",
   "execution_count": null,
   "id": "56da100f-58cc-4b0a-a5da-d8483742af10",
   "metadata": {},
   "outputs": [],
   "source": [
    "optimal_h = h_train(multi_coolers[h_train_idxs[0]], multi_coolers[h_train_idxs[1]], max_dist, h_max, whitelist)"
   ]
  },
  {
   "cell_type": "markdown",
   "id": "22f29013-fe13-4e69-92ff-df553a731ef0",
   "metadata": {},
   "source": [
    "### Compute scc values"
   ]
  },
  {
   "cell_type": "code",
   "execution_count": null,
   "id": "90b3da73-0c96-4684-bb3e-c536ef63bf4f",
   "metadata": {},
   "outputs": [],
   "source": [
    "# compute downsampling value\n",
    "cooler_sums = [cooler_file.info[\"sum\"] for cooler_file in multi_coolers[:-1]]\n",
    "downsampling_value = min(cooler_sums)\n",
    "\n",
    "k = len(multi_coolers)\n",
    "scc_mat = np.zeros((k, k))\n",
    "for i, j in tqdm(product(range(k), range(k))):\n",
    "    if i == j:\n",
    "        scc_mat[i, j] = 1.0\n",
    "    else:\n",
    "        scc = genome_scc(multi_coolers[i], multi_coolers[j], max_dist, optimal_h, downsampling_value, whitelist)\n",
    "        scc_mat[i, j] = scc\n",
    "        scc_mat[j, i] = scc"
   ]
  },
  {
   "cell_type": "markdown",
   "id": "035dbca3-b60b-41b6-902a-92adec731827",
   "metadata": {},
   "source": [
    "### Plot correlation matrices"
   ]
  },
  {
   "cell_type": "code",
   "execution_count": null,
   "id": "a42bb963-8945-4b8a-9084-fe5d86101511",
   "metadata": {},
   "outputs": [],
   "source": [
    "plot_dir = \"\" # output file directory\n",
    "sns.clustermap(scc_df, cmap= sns.color_palette(\"RdBu_r\", as_cmap=True), annot=True)\n",
    "plt.savefig(plot_dir, format='svg')"
   ]
  }
 ],
 "metadata": {
  "kernelspec": {
   "display_name": "notebook_1",
   "language": "python",
   "name": "notebook_1"
  },
  "language_info": {
   "codemirror_mode": {
    "name": "ipython",
    "version": 3
   },
   "file_extension": ".py",
   "mimetype": "text/x-python",
   "name": "python",
   "nbconvert_exporter": "python",
   "pygments_lexer": "ipython3",
   "version": "3.11.4"
  }
 },
 "nbformat": 4,
 "nbformat_minor": 5
}
