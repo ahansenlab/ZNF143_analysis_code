{
 "cells": [
  {
   "cell_type": "markdown",
   "id": "f496bb5c-3eb8-4b85-ae61-274d6fe7fc31",
   "metadata": {},
   "source": [
    "### Imports"
   ]
  },
  {
   "cell_type": "code",
   "execution_count": null,
   "id": "4538c49d-cc0d-4443-891c-fc07299a3dda",
   "metadata": {},
   "outputs": [],
   "source": [
    "# Package imports\n",
    "import os\n",
    "import numpy as np\n",
    "import pandas as pd\n",
    "from matplotlib import pyplot as plt\n",
    "import seaborn as sns\n",
    "# import libraries for biological data analysis\n",
    "from coolpuppy import coolpup\n",
    "from coolpuppy.lib import numutils\n",
    "from coolpuppy.lib.numutils import get_domain_score, get_enrichment\n",
    "from coolpuppy.lib.puputils import accumulate_values\n",
    "from coolpuppy.lib.puputils import divide_pups\n",
    "from coolpuppy import plotpup\n",
    "\n",
    "from matplotlib.colors import LogNorm\n",
    "from mpl_toolkits.axes_grid1 import make_axes_locatable\n",
    "import cooler\n",
    "import bioframe\n",
    "import cooltools\n",
    "from cooltools import expected_cis, expected_trans\n",
    "from cooltools.lib import plotting\n",
    "import cooler as clr\n",
    "import h5py\n",
    "\n",
    "import time"
   ]
  },
  {
   "cell_type": "markdown",
   "id": "4014b39b-0172-44e0-8cdb-c308d4360c02",
   "metadata": {},
   "source": [
    "### Set directory to mcools"
   ]
  },
  {
   "cell_type": "code",
   "execution_count": null,
   "id": "be8f6147-5ec4-44a5-80ff-51cf4afed612",
   "metadata": {},
   "outputs": [],
   "source": [
    "file_path = \"\" # mcool file path\n",
    "mcool_files = [\"\"] # list of mcool file names\n",
    "resolution = 5000 # resolution for analysis"
   ]
  },
  {
   "cell_type": "markdown",
   "id": "be3d4ca8-d7dd-4a41-8d57-c3d01655ae40",
   "metadata": {},
   "source": [
    "### Compute expected"
   ]
  },
  {
   "cell_type": "code",
   "execution_count": null,
   "id": "d8a7c9c3-df1b-4c86-a301-9d9ec28be7ee",
   "metadata": {},
   "outputs": [],
   "source": [
    "# Get chr arms\n",
    "# Use bioframe to fetch the genomic features from the UCSC.\n",
    "mm39_chromsizes = bioframe.fetch_chromsizes('mm39')\n",
    "mm39_cens = bioframe.fetch_centromeres('mm39', provider='ucsc')\n",
    "mm39_cens = mm39_cens.astype({'start':int, 'end':int, 'mid':int})\n",
    "# mm39_cens = mm39_cens.astype(int)\n",
    "mm39_arms = bioframe.make_chromarms(mm39_chromsizes, mm39_cens)\n",
    "\n",
    "# call this to automaticly assign names to chromosomal arms:\n",
    "mm39_arms = bioframe.make_viewframe(mm39_arms)\n",
    "mm39_arms"
   ]
  },
  {
   "cell_type": "code",
   "execution_count": null,
   "id": "e1fbb990-3518-476d-ba70-c1a8bfa32111",
   "metadata": {},
   "outputs": [],
   "source": [
    "# Compute expected ... takes some time\n",
    "expected_df_list = []\n",
    "\n",
    "# Path for output of expected calculation\n",
    "output_names = ['expected/' + name.split(\".\")[0] + '_expected_cis.tsv' for name in mcool_files]\n",
    "for mcool_file, output_name in zip(mcool_files, output_names):\n",
    "    curr_cooler = read_cooler(os.path.join(file_path, mcool_file), resolution)\n",
    "    expected = expected_cis(\n",
    "        curr_cooler,\n",
    "        ignore_diags=0,\n",
    "        view_df=mm39_arms,\n",
    "        chunksize=1000000)\n",
    "    expected_df_list.append(expected)\n",
    "    expected.to_csv(output_name, sep='\\t', index=False, header=True) # Let's save to use in CLI"
   ]
  },
  {
   "cell_type": "markdown",
   "id": "0a52e375-d54b-44fc-b13f-4136e86c5a31",
   "metadata": {},
   "source": [
    "### Compute enrichment scores"
   ]
  },
  {
   "cell_type": "markdown",
   "id": "7bbd4e19-0772-46c9-a038-78f94bf47495",
   "metadata": {},
   "source": [
    "#### cohesin loops"
   ]
  },
  {
   "cell_type": "code",
   "execution_count": null,
   "id": "4f8daa8e-1d12-426c-b5a3-c17ac542dd9f",
   "metadata": {},
   "outputs": [],
   "source": [
    "loops_path = \"\" # path to loop calls\n",
    "\n",
    "tsv_files = len(mcool_files)*[\"\"] # path to cohesin loops\n",
    "cohesin_loops_scores = get_all_domain_scores(mcool_files, tsv_files, file_path, loops_path, \n",
    "                                                resolution, expected_df_list, mm39_arms)"
   ]
  },
  {
   "cell_type": "markdown",
   "id": "2bffd742-d42b-4009-b063-efeb5fc3daa9",
   "metadata": {},
   "source": [
    "#### ep loops"
   ]
  },
  {
   "cell_type": "code",
   "execution_count": null,
   "id": "a4082ae3-b4fb-4aab-b961-233abeea9e6c",
   "metadata": {},
   "outputs": [],
   "source": [
    "tsv_files = len(mcool_files)*[\"\"] # path to ep loops\n",
    "ep_loops_scores = get_all_domain_scores(mcool_files, tsv_files, file_path, loops_path, \n",
    "                                                resolution, expected_df_list, mm39_arms)"
   ]
  },
  {
   "cell_type": "markdown",
   "id": "3a2887cf-cfd4-4a6c-a0ea-4d9ba2c55119",
   "metadata": {},
   "source": [
    "#### pp loops"
   ]
  },
  {
   "cell_type": "code",
   "execution_count": null,
   "id": "78323fa7-b7a5-47cb-be6d-4c97122eed3f",
   "metadata": {},
   "outputs": [],
   "source": [
    "tsv_files = len(mcool_files)*[\"\"] # path to pp loops\n",
    "pp_loops_scores = get_all_domain_scores(mcool_files, tsv_files, file_path, loops_path, \n",
    "                                                resolution, expected_df_list, mm39_arms)"
   ]
  },
  {
   "cell_type": "markdown",
   "id": "e5bba1c7-aa42-4e67-a31f-09adf5122962",
   "metadata": {},
   "source": [
    "#### zfp143 loops"
   ]
  },
  {
   "cell_type": "code",
   "execution_count": null,
   "id": "7e5fbd79-20f0-476d-8530-b7f8cb45e258",
   "metadata": {},
   "outputs": [],
   "source": [
    "tsv_files = len(mcool_files)*[\"\"] # path to zfp143 loops\n",
    "znf_loops_scores = get_all_domain_scores(mcool_files, tsv_files, file_path, loops_path, \n",
    "                                                resolution, expected_df_list, mm39_arms)"
   ]
  },
  {
   "cell_type": "markdown",
   "id": "91333954-90fd-4df0-9d08-f6febed226aa",
   "metadata": {},
   "source": [
    "### Make plots"
   ]
  },
  {
   "cell_type": "markdown",
   "id": "15add668-ddca-48dd-838c-4156b388c349",
   "metadata": {},
   "source": [
    "#### Combine dataframes"
   ]
  },
  {
   "cell_type": "code",
   "execution_count": null,
   "id": "136f777b-63e8-43d8-bcf0-b649c9c0eaa7",
   "metadata": {},
   "outputs": [],
   "source": [
    "df_merged_znf = reduce(pd_merge_all_domains, enumerate(znf_loops_scores))[1]\n",
    "\n",
    "all_dfs = [reduce(pd_merge_all_domains, enumerate(loop_scores))[1] for loop_scores in [cohesin_loops_scores, ep_loops_scores,\n",
    "                                                                                      pp_loops_scores, znf_loops_scores]]\n",
    "loop_types = [\"cohesin\", \"ep\", \"pp\", \"znf143\"]\n",
    "plot_df_list = []\n",
    "condition_list = [\"\"] # a list of condition names\n",
    "for df, loop_type in zip(all_dfs, loop_types):\n",
    "    plot_df = pd.DataFrame(columns=[\"loop_type\"] + condition_list)\n",
    "\n",
    "    for score in condition_list:\n",
    "        plot_df[score] = df[\"domain_score_\" + score]\n",
    "    plot_df[\"loop_type\"] = loop_type\n",
    "    plot_df_list.append(plot_df)\n",
    "plot_df = pd.concat(plot_df_list, ignore_index=True)\n",
    "plot_df"
   ]
  },
  {
   "cell_type": "markdown",
   "id": "2134490c-c724-4e9e-81e4-d0c39ff4674f",
   "metadata": {},
   "source": [
    "#### Make plot"
   ]
  },
  {
   "cell_type": "code",
   "execution_count": null,
   "id": "d3eda9ae-f3a3-4845-9cad-c70485414bd8",
   "metadata": {},
   "outputs": [],
   "source": [
    "plot_pairs = [(\"\", \"\")] # specify condition pairs as tuples\n",
    "fig, axs = plt.subplots(1, 3, figsize=(18, 6))\n",
    "for i, pair in enumerate(plot_pairs):\n",
    "    sns.scatterplot(data=plot_df, x=pair[0], y=pair[1], hue=\"loop_type\", alpha=0.05, ax=axs[i])\n",
    "    sns.despine()\n",
    "    axs[i].set_xlim([0, 45])\n",
    "    axs[i].set_ylim([0, 45])\n",
    "    axs[i].set_aspect('equal')\n",
    "plot_dir = \"\" # output directory\n",
    "\n",
    "plt.savefig(os.path.join(plot_dir, \"name.svg\"), format='svg')"
   ]
  },
  {
   "cell_type": "markdown",
   "id": "1a1c4c93-cfa8-4d1d-b31a-55eb8e751683",
   "metadata": {},
   "source": [
    "# Functions"
   ]
  },
  {
   "cell_type": "code",
   "execution_count": null,
   "id": "2a1b8600-098e-486a-aae3-00f126dedbd9",
   "metadata": {},
   "outputs": [],
   "source": [
    "from functools import reduce\n",
    "all_suffixes = [] # list of suffixes indicating which mcool file\n",
    "suff_idx = 0 \n",
    "\n",
    "ALL_DOMAIN_SCORES = {\"domain_score\": [], \"chrom1\": [], \"start1\": [], \"end1\": [], \n",
    "                     \"chrom2\": [], \"start2\": [], \"end2\": []}\n",
    "\n",
    "def pd_merge_all_domains(left, right):\n",
    "    \"\"\"\n",
    "    Helper for merging pandas dataframe. \n",
    "    \"\"\"\n",
    "    pd_merged = pd.merge(left[1],right[1],how='inner', on=[\"chrom1\", \"start1\", \"end1\", \"chrom2\", \"start2\", \"end2\"], \n",
    "                         suffixes=[all_suffixes[left[0]], all_suffixes[right[0]]])\n",
    "    return right[0], pd_merged\n",
    "    \n",
    "def add_domain_score(snippet):\n",
    "    \"\"\"\n",
    "    Helper function for calculating enrichments from coolpuppy\n",
    "    \"\"\"\n",
    "    snippet['domain_score'] = get_enrichment(snippet['data'], 3) # Calculates enrichment for each snippet \n",
    "    for key in ALL_DOMAIN_SCORES.keys():\n",
    "        ALL_DOMAIN_SCORES[key].append(snippet[key])\n",
    "    return snippet\n",
    "\n",
    "def reset_all_domain_scores():\n",
    "    for key, val in ALL_DOMAIN_SCORES.items():\n",
    "        val.clear()\n",
    "\n",
    "def get_all_domain_scores(mcool_files, tsv_files, file_path, loop_path, resolution, \n",
    "                          expected_df_list, view_df):\n",
    "    \"\"\"\n",
    "    Function that computes an enrichment score for all loops in `tsv_file` for all mcool files at\n",
    "    `resolution`.\n",
    "    \"\"\"\n",
    "    domain_scores_list = []\n",
    "    for mcool_file, tsv_file, expected_df in zip(mcool_files, tsv_files, expected_df_list):\n",
    "        reset_all_domain_scores()\n",
    "        loop_df = pd.read_csv(os.path.join(loop_path, tsv_file), sep=\"\\t\", \n",
    "                      names=[\"chrom1\", \"start1\", \"end1\", \"chrom2\", \"start2\", \"end2\"])\n",
    "        current_cooler = read_cooler(os.path.join(file_path, mcool_file), resolution=resolution)\n",
    "        cc = coolpup.CoordCreator(loop_df, resolution, rescale_flank=1) #, chroms=chrom_list)\n",
    "        pp = coolpup.PileUpper(current_cooler, cc, expected=expected_df, view_df=view_df,\n",
    "                              rescale_size=41, rescale=True)\n",
    "        test_df = pp.pileupsWithControl(postprocess_func=add_domain_score)\n",
    "        domain_scores_list.append(pd.DataFrame(ALL_DOMAIN_SCORES.copy()))\n",
    "        print(domain_scores_list[-1].shape)\n",
    "    return domain_scores_list\n"
   ]
  }
 ],
 "metadata": {
  "kernelspec": {
   "display_name": "notebook_1",
   "language": "python",
   "name": "notebook_1"
  },
  "language_info": {
   "codemirror_mode": {
    "name": "ipython",
    "version": 3
   },
   "file_extension": ".py",
   "mimetype": "text/x-python",
   "name": "python",
   "nbconvert_exporter": "python",
   "pygments_lexer": "ipython3",
   "version": "3.11.4"
  }
 },
 "nbformat": 4,
 "nbformat_minor": 5
}
